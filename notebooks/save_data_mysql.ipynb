{
 "cells": [
  {
   "cell_type": "code",
   "execution_count": 22,
   "id": "da472d62",
   "metadata": {},
   "outputs": [],
   "source": [
    "import mysql.connector\n",
    "import yaml\n",
    "import pandas as pd"
   ]
  },
  {
   "cell_type": "code",
   "execution_count": 10,
   "id": "47c0c4e9",
   "metadata": {},
   "outputs": [],
   "source": [
    "with open('../config.yaml', 'r', encoding='UTF-8') as cfg:\n",
    "    config = yaml.safe_load(cfg)\n",
    "\n",
    "mysql_password = config['mysql_password']"
   ]
  },
  {
   "cell_type": "code",
   "execution_count": 9,
   "id": "558db49d",
   "metadata": {},
   "outputs": [],
   "source": [
    "cnx = mysql.connector.connect(\n",
    "    host=\"localhost\",\n",
    "    user=\"michellvagner\",\n",
    "    password=mysql_password\n",
    ")\n"
   ]
  },
  {
   "cell_type": "code",
   "execution_count": 11,
   "id": "a9bd28ef",
   "metadata": {},
   "outputs": [],
   "source": [
    "cursor = cnx.cursor()"
   ]
  },
  {
   "cell_type": "code",
   "execution_count": 20,
   "id": "7b78f138",
   "metadata": {},
   "outputs": [],
   "source": [
    "cursor.execute(\"CREATE DATABASE IF NOT EXISTS dbprodutos;\")"
   ]
  },
  {
   "cell_type": "code",
   "execution_count": 17,
   "id": "cdc938ae",
   "metadata": {},
   "outputs": [],
   "source": [
    "rows = cursor.fetchall()"
   ]
  },
  {
   "cell_type": "code",
   "execution_count": 18,
   "id": "2fa452ff",
   "metadata": {},
   "outputs": [
    {
     "name": "stdout",
     "output_type": "stream",
     "text": [
      "('dbprodutos',)\n",
      "('information_schema',)\n",
      "('mysql',)\n",
      "('performance_schema',)\n",
      "('sys',)\n"
     ]
    }
   ],
   "source": [
    "cursor.execute(\"SHOW DATABASES;\")\n",
    "\n",
    "for db in cursor:\n",
    "    print(db)"
   ]
  },
  {
   "cell_type": "code",
   "execution_count": 25,
   "id": "6fd4b468",
   "metadata": {},
   "outputs": [
    {
     "data": {
      "text/html": [
       "<div>\n",
       "<style scoped>\n",
       "    .dataframe tbody tr th:only-of-type {\n",
       "        vertical-align: middle;\n",
       "    }\n",
       "\n",
       "    .dataframe tbody tr th {\n",
       "        vertical-align: top;\n",
       "    }\n",
       "\n",
       "    .dataframe thead th {\n",
       "        text-align: right;\n",
       "    }\n",
       "</style>\n",
       "<table border=\"1\" class=\"dataframe\">\n",
       "  <thead>\n",
       "    <tr style=\"text-align: right;\">\n",
       "      <th></th>\n",
       "      <th>_id</th>\n",
       "      <th>Produto</th>\n",
       "      <th>Categoria do Produto</th>\n",
       "      <th>Preço</th>\n",
       "      <th>Frete</th>\n",
       "      <th>Data da Compra</th>\n",
       "      <th>Vendedor</th>\n",
       "      <th>Local da compra</th>\n",
       "      <th>Avaliação da compra</th>\n",
       "      <th>Tipo de pagamento</th>\n",
       "      <th>Quantidade de parcelas</th>\n",
       "      <th>Latitude</th>\n",
       "      <th>Longitude</th>\n",
       "    </tr>\n",
       "  </thead>\n",
       "  <tbody>\n",
       "    <tr>\n",
       "      <th>0</th>\n",
       "      <td>68e13ab7c1ddf79092dae7d0</td>\n",
       "      <td>Dashboards com Power BI</td>\n",
       "      <td>livros</td>\n",
       "      <td>43.35</td>\n",
       "      <td>3.248105</td>\n",
       "      <td>2023-03-01</td>\n",
       "      <td>Rafael Costa</td>\n",
       "      <td>BA</td>\n",
       "      <td>5</td>\n",
       "      <td>cartao_credito</td>\n",
       "      <td>2</td>\n",
       "      <td>-13.29</td>\n",
       "      <td>-41.71</td>\n",
       "    </tr>\n",
       "    <tr>\n",
       "      <th>1</th>\n",
       "      <td>68e13ab7c1ddf79092dae821</td>\n",
       "      <td>Dashboards com Power BI</td>\n",
       "      <td>livros</td>\n",
       "      <td>46.87</td>\n",
       "      <td>0.000000</td>\n",
       "      <td>2021-07-01</td>\n",
       "      <td>Beatriz Moraes</td>\n",
       "      <td>RS</td>\n",
       "      <td>5</td>\n",
       "      <td>cartao_credito</td>\n",
       "      <td>8</td>\n",
       "      <td>-30.17</td>\n",
       "      <td>-53.50</td>\n",
       "    </tr>\n",
       "    <tr>\n",
       "      <th>2</th>\n",
       "      <td>68e13ab7c1ddf79092dae87a</td>\n",
       "      <td>Ciência de dados com python</td>\n",
       "      <td>livros</td>\n",
       "      <td>80.32</td>\n",
       "      <td>1.861237</td>\n",
       "      <td>2021-10-01</td>\n",
       "      <td>Rafael Costa</td>\n",
       "      <td>SP</td>\n",
       "      <td>4</td>\n",
       "      <td>cartao_credito</td>\n",
       "      <td>2</td>\n",
       "      <td>-22.19</td>\n",
       "      <td>-48.79</td>\n",
       "    </tr>\n",
       "    <tr>\n",
       "      <th>3</th>\n",
       "      <td>68e13ab7c1ddf79092dae888</td>\n",
       "      <td>Dashboards com Power BI</td>\n",
       "      <td>livros</td>\n",
       "      <td>54.59</td>\n",
       "      <td>3.189879</td>\n",
       "      <td>2022-10-01</td>\n",
       "      <td>Juliana Costa</td>\n",
       "      <td>SP</td>\n",
       "      <td>3</td>\n",
       "      <td>cartao_credito</td>\n",
       "      <td>8</td>\n",
       "      <td>-22.19</td>\n",
       "      <td>-48.79</td>\n",
       "    </tr>\n",
       "    <tr>\n",
       "      <th>4</th>\n",
       "      <td>68e13ab7c1ddf79092dae891</td>\n",
       "      <td>Iniciando em programação</td>\n",
       "      <td>livros</td>\n",
       "      <td>60.27</td>\n",
       "      <td>3.492322</td>\n",
       "      <td>2021-11-01</td>\n",
       "      <td>Juliana Costa</td>\n",
       "      <td>SP</td>\n",
       "      <td>5</td>\n",
       "      <td>cartao_credito</td>\n",
       "      <td>1</td>\n",
       "      <td>-22.19</td>\n",
       "      <td>-48.79</td>\n",
       "    </tr>\n",
       "  </tbody>\n",
       "</table>\n",
       "</div>"
      ],
      "text/plain": [
       "                        _id                      Produto Categoria do Produto  \\\n",
       "0  68e13ab7c1ddf79092dae7d0      Dashboards com Power BI               livros   \n",
       "1  68e13ab7c1ddf79092dae821      Dashboards com Power BI               livros   \n",
       "2  68e13ab7c1ddf79092dae87a  Ciência de dados com python               livros   \n",
       "3  68e13ab7c1ddf79092dae888      Dashboards com Power BI               livros   \n",
       "4  68e13ab7c1ddf79092dae891     Iniciando em programação               livros   \n",
       "\n",
       "   Preço     Frete Data da Compra        Vendedor Local da compra  \\\n",
       "0  43.35  3.248105     2023-03-01    Rafael Costa              BA   \n",
       "1  46.87  0.000000     2021-07-01  Beatriz Moraes              RS   \n",
       "2  80.32  1.861237     2021-10-01    Rafael Costa              SP   \n",
       "3  54.59  3.189879     2022-10-01   Juliana Costa              SP   \n",
       "4  60.27  3.492322     2021-11-01   Juliana Costa              SP   \n",
       "\n",
       "   Avaliação da compra Tipo de pagamento  Quantidade de parcelas  Latitude  \\\n",
       "0                    5    cartao_credito                       2    -13.29   \n",
       "1                    5    cartao_credito                       8    -30.17   \n",
       "2                    4    cartao_credito                       2    -22.19   \n",
       "3                    3    cartao_credito                       8    -22.19   \n",
       "4                    5    cartao_credito                       1    -22.19   \n",
       "\n",
       "   Longitude  \n",
       "0     -41.71  \n",
       "1     -53.50  \n",
       "2     -48.79  \n",
       "3     -48.79  \n",
       "4     -48.79  "
      ]
     },
     "execution_count": 25,
     "metadata": {},
     "output_type": "execute_result"
    }
   ],
   "source": [
    "df_livros = pd.read_csv('../data/tabela_livros.csv')\n",
    "df_livros.head()"
   ]
  },
  {
   "cell_type": "code",
   "execution_count": 26,
   "id": "394d5c36",
   "metadata": {},
   "outputs": [
    {
     "data": {
      "text/plain": [
       "Index(['_id', 'Produto', 'Categoria do Produto', 'Preço', 'Frete',\n",
       "       'Data da Compra', 'Vendedor', 'Local da compra', 'Avaliação da compra',\n",
       "       'Tipo de pagamento', 'Quantidade de parcelas', 'Latitude', 'Longitude'],\n",
       "      dtype='object')"
      ]
     },
     "execution_count": 26,
     "metadata": {},
     "output_type": "execute_result"
    }
   ],
   "source": [
    "df_livros.columns"
   ]
  },
  {
   "cell_type": "code",
   "execution_count": 27,
   "id": "2dc0656e",
   "metadata": {},
   "outputs": [
    {
     "data": {
      "text/plain": [
       "(1484, 13)"
      ]
     },
     "execution_count": 27,
     "metadata": {},
     "output_type": "execute_result"
    }
   ],
   "source": [
    "df_livros.shape"
   ]
  },
  {
   "cell_type": "code",
   "execution_count": 28,
   "id": "47462aee",
   "metadata": {},
   "outputs": [],
   "source": [
    "cursor.execute(\"\"\"\n",
    "        CREATE TABLE IF NOT EXISTS dbprodutos.tb_livros(\n",
    "                id VARCHAR(100),\n",
    "                Produto VARCHAR(100),\n",
    "                Categoria_Produto VARCHAR(100),\n",
    "                Preco FLOAT(10,2),\n",
    "                Frete FLOAT(10,2),\n",
    "                Data_Compra DATE,\n",
    "                Vendedor VARCHAR(100),\n",
    "                Local_Compra VARCHAR(100),\n",
    "                Avaliacao_Compra INT,\n",
    "                Tipo_Pagamento VARCHAR(100),\n",
    "                Qntd_Parcelas INT,\n",
    "                Latitude FLOAT(10,2),\n",
    "                Longitude FLOAT(10,2),\n",
    "\n",
    "                PRIMARY KEY (id)     \n",
    "        );\n",
    "\n",
    "\"\"\")"
   ]
  },
  {
   "cell_type": "code",
   "execution_count": 29,
   "id": "888f803a",
   "metadata": {},
   "outputs": [],
   "source": [
    "cursor.execute(\"USE dbprodutos;\")"
   ]
  },
  {
   "cell_type": "code",
   "execution_count": 30,
   "id": "9d4c1c9a",
   "metadata": {},
   "outputs": [
    {
     "name": "stdout",
     "output_type": "stream",
     "text": [
      "('tb_livros',)\n"
     ]
    }
   ],
   "source": [
    "cursor.execute(\"SHOW TABLES;\")\n",
    "\n",
    "for db in cursor:\n",
    "    print(db)"
   ]
  }
 ],
 "metadata": {
  "kernelspec": {
   "display_name": "pipeline-python-mongo-mysql-cQkpESxr",
   "language": "python",
   "name": "python3"
  },
  "language_info": {
   "codemirror_mode": {
    "name": "ipython",
    "version": 3
   },
   "file_extension": ".py",
   "mimetype": "text/x-python",
   "name": "python",
   "nbconvert_exporter": "python",
   "pygments_lexer": "ipython3",
   "version": "3.10.12"
  }
 },
 "nbformat": 4,
 "nbformat_minor": 5
}

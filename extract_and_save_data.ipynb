{
 "cells": [
  {
   "cell_type": "code",
   "execution_count": 1,
   "id": "71156c13",
   "metadata": {},
   "outputs": [],
   "source": [
    "import yaml"
   ]
  },
  {
   "cell_type": "code",
   "execution_count": null,
   "id": "c7538ec6",
   "metadata": {},
   "outputs": [],
   "source": [
    "with open('./config.yaml', 'r', encoding='utf-8') as cfg:\n",
    "    config = yaml.safe_load(cfg)\n",
    "\n",
    "mongodb_server = config['mongodb_server']\n",
    "mongodb_password = config['mongodb_password']"
   ]
  },
  {
   "cell_type": "code",
   "execution_count": null,
   "id": "40c4b26a",
   "metadata": {},
   "outputs": [],
   "source": [
    "from pymongo.mongo_client import MongoClient\n",
    "from pymongo.server_api import ServerApi\n",
    "\n",
    "uri = f\"mongodb+srv://{mongodb_server}:<{mongodb_password}>@cluster-pipeline.nfelei6.mongodb.net/?retryWrites=true&w=majority&appName=Cluster-pipeline\"\n",
    "\n",
    "# Create a new client and connect to the server\n",
    "client = MongoClient(uri, server_api=ServerApi('1'))\n",
    "\n",
    "# Send a ping to confirm a successful connection\n",
    "try:\n",
    "    client.admin.command('ping')\n",
    "    print(\"Pinged your deployment. You successfully connected to MongoDB!\")\n",
    "except Exception as e:\n",
    "    print(e)"
   ]
  }
 ],
 "metadata": {
  "kernelspec": {
   "display_name": "pipeline-python-mongo-mysql-cQkpESxr",
   "language": "python",
   "name": "python3"
  },
  "language_info": {
   "codemirror_mode": {
    "name": "ipython",
    "version": 3
   },
   "file_extension": ".py",
   "mimetype": "text/x-python",
   "name": "python",
   "nbconvert_exporter": "python",
   "pygments_lexer": "ipython3",
   "version": "3.10.12"
  }
 },
 "nbformat": 4,
 "nbformat_minor": 5
}
